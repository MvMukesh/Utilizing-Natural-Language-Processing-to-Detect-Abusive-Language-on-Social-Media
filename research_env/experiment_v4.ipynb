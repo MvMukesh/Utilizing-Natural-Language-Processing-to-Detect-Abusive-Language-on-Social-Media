{
 "cells": [
  {
   "cell_type": "markdown",
   "id": "536c6f19",
   "metadata": {},
   "source": [
    "# Harnessing Power of NLP to Cleanse Social Media Landscape"
   ]
  },
  {
   "cell_type": "code",
   "execution_count": null,
   "id": "896306ab",
   "metadata": {},
   "outputs": [],
   "source": [
    "abhushek can you track it"
   ]
  },
  {
   "cell_type": "code",
   "execution_count": 1,
   "id": "a6cbd588",
   "metadata": {},
   "outputs": [
    {
     "data": {
      "text/plain": [
       "'d:\\\\Utilizing-Natural-Language-Processing-to-Detect-Abusive-Language-on-Social-Media\\\\research_env'"
      ]
     },
     "execution_count": 1,
     "metadata": {},
     "output_type": "execute_result"
    }
   ],
   "source": [
    "%pwd"
   ]
  },
  {
   "cell_type": "markdown",
   "id": "38adabc8",
   "metadata": {},
   "source": [
    "### Required Libraries"
   ]
  },
  {
   "cell_type": "code",
   "execution_count": 7,
   "id": "890d0712",
   "metadata": {},
   "outputs": [],
   "source": [
    "import os\n",
    "import numpy as np \n",
    "import pandas as pd\n",
    "import seaborn as sns\n",
    "import matplotlib.pyplot as plt\n",
    "\n",
    "import re\n",
    "import nltk\n",
    "import string\n",
    "from nltk.corpus import stopwords\n",
    "\n",
    "from sklearn.metrics import confusion_matrix\n",
    "from sklearn.model_selection import train_test_split\n",
    "from sklearn.feature_extraction.text import CountVectorizer\n",
    "from sklearn.feature_extraction.text import TfidfTransformer\n",
    "\n",
    "from keras.models import Model\n",
    "from keras.models import Sequential\n",
    "from keras.optimizers import RMSprop\n",
    "from keras.utils import pad_sequences\n",
    "from keras.utils import to_categorical\n",
    "from keras.preprocessing import sequence\n",
    "from keras.preprocessing.text import Tokenizer\n",
    "from keras.callbacks import EarlyStopping, ModelCheckpoint\n",
    "from keras.layers import LSTM, Activation, Dense, Dropout, Input, Embedding, SpatialDropout1D\n",
    "\n",
    "\n",
    "pd.set_option('display.max_rows', None)\n",
    "pd.set_option('display.max_columns', None)\n",
    "pd.set_option('display.max_colwidth', 300)"
   ]
  },
  {
   "cell_type": "code",
   "execution_count": 8,
   "id": "05615aa8",
   "metadata": {},
   "outputs": [
    {
     "name": "stdout",
     "output_type": "stream",
     "text": [
      "{'were', 'itself', 'these', 'mightn', 'him', 'why', 'during', 'then', 'through', 'whom', 'doing', 'off', 'haven', 'isn', 'over', 'once', 'to', 'weren', 'should', 'from', 'yours', 'you', 'it', 'same', 'while', \"hadn't\", 'do', 'more', 'our', 'between', 'any', 'out', 'where', 'that', 'again', \"hasn't\", 'hers', 'its', 'with', 'into', 'few', 'than', 'herself', 'needn', 'o', \"couldn't\", 'up', 't', 'didn', 'she', \"you'll\", 'm', \"that'll\", 'because', 'so', \"isn't\", 'those', 'when', \"shouldn't\", 'wasn', 'and', 'above', 'ain', 'on', 'he', 'y', 'is', 'most', 'am', \"aren't\", 'each', 'not', 'ma', 'who', 'such', \"weren't\", 'doesn', 'just', 'below', 'now', \"won't\", 'here', 'being', \"should've\", 'them', 'does', \"you've\", 'are', 'hasn', \"needn't\", 'this', \"wasn't\", 'for', 'nor', 'by', 'been', \"she's\", 'own', 'me', 'but', 'other', 'some', 'mustn', 'did', 'further', 'their', 'until', 's', 'of', 'at', 'what', 'has', \"mustn't\", 'her', 'have', 'only', 'be', \"you'd\", 'very', 'too', 'had', 'd', 'don', 'both', 'which', 'won', 'in', \"don't\", 'hadn', 'can', 'aren', 'after', 'himself', 'yourself', 'will', 'wouldn', \"it's\", 'all', \"doesn't\", \"didn't\", 'a', 'or', \"you're\", 'theirs', 'if', 're', 'his', 'having', 'an', \"wouldn't\", \"haven't\", \"mightn't\", 'ours', 'myself', 'there', 'shouldn', 'shan', 'your', 'no', 'before', 'under', 'i', \"shan't\", 'my', 'themselves', 'we', 'they', 'about', 'the', 'against', 'was', 'yourselves', 'ourselves', 'down', 'how', 'll', 'as', 'couldn', 've'}\n"
     ]
    }
   ],
   "source": [
    "## Check for stop words / or we have to download it manually\n",
    "stopword = set(stopwords.words('english'))\n",
    "print(stopword)"
   ]
  },
  {
   "cell_type": "markdown",
   "id": "942bc843",
   "metadata": {},
   "source": [
    "---\n",
    "### Understanding Data"
   ]
  },
  {
   "cell_type": "code",
   "execution_count": 9,
   "id": "6fdeebf2",
   "metadata": {},
   "outputs": [
    {
     "data": {
      "text/plain": [
       "'\\\\Utilizing-Natural-Language-Processing-to-Detect-Abusive-Language-on-Social-Media\\\\data\\\\'"
      ]
     },
     "execution_count": 9,
     "metadata": {},
     "output_type": "execute_result"
    }
   ],
   "source": [
    "path = \"\\\\Utilizing-Natural-Language-Processing-to-Detect-Abusive-Language-on-Social-Media\\\\data\\\\\"\n",
    "path"
   ]
  },
  {
   "cell_type": "code",
   "execution_count": 10,
   "id": "c1f6b2e5",
   "metadata": {},
   "outputs": [
    {
     "data": {
      "text/html": [
       "<div>\n",
       "<style scoped>\n",
       "    .dataframe tbody tr th:only-of-type {\n",
       "        vertical-align: middle;\n",
       "    }\n",
       "\n",
       "    .dataframe tbody tr th {\n",
       "        vertical-align: top;\n",
       "    }\n",
       "\n",
       "    .dataframe thead th {\n",
       "        text-align: right;\n",
       "    }\n",
       "</style>\n",
       "<table border=\"1\" class=\"dataframe\">\n",
       "  <thead>\n",
       "    <tr style=\"text-align: right;\">\n",
       "      <th></th>\n",
       "      <th>id</th>\n",
       "      <th>label</th>\n",
       "      <th>tweet</th>\n",
       "    </tr>\n",
       "  </thead>\n",
       "  <tbody>\n",
       "    <tr>\n",
       "      <th>0</th>\n",
       "      <td>1</td>\n",
       "      <td>0</td>\n",
       "      <td>@user when a father is dysfunctional and is so selfish he drags his kids into his dysfunction.   #run</td>\n",
       "    </tr>\n",
       "    <tr>\n",
       "      <th>1</th>\n",
       "      <td>2</td>\n",
       "      <td>0</td>\n",
       "      <td>@user @user thanks for #lyft credit i can't use cause they don't offer wheelchair vans in pdx.    #disapointed #getthanked</td>\n",
       "    </tr>\n",
       "    <tr>\n",
       "      <th>2</th>\n",
       "      <td>3</td>\n",
       "      <td>0</td>\n",
       "      <td>bihday your majesty</td>\n",
       "    </tr>\n",
       "    <tr>\n",
       "      <th>3</th>\n",
       "      <td>4</td>\n",
       "      <td>0</td>\n",
       "      <td>#model   i love u take with u all the time in urð±!!! ððððð¦ð¦ð¦</td>\n",
       "    </tr>\n",
       "    <tr>\n",
       "      <th>4</th>\n",
       "      <td>5</td>\n",
       "      <td>0</td>\n",
       "      <td>factsguide: society now    #motivation</td>\n",
       "    </tr>\n",
       "  </tbody>\n",
       "</table>\n",
       "</div>"
      ],
      "text/plain": [
       "   id  label  \\\n",
       "0   1      0   \n",
       "1   2      0   \n",
       "2   3      0   \n",
       "3   4      0   \n",
       "4   5      0   \n",
       "\n",
       "                                                                                                                        tweet  \n",
       "0                       @user when a father is dysfunctional and is so selfish he drags his kids into his dysfunction.   #run  \n",
       "1  @user @user thanks for #lyft credit i can't use cause they don't offer wheelchair vans in pdx.    #disapointed #getthanked  \n",
       "2                                                                                                         bihday your majesty  \n",
       "3                                      #model   i love u take with u all the time in urð±!!! ðððð\n",
       "ð¦ð¦ð¦    \n",
       "4                                                                                      factsguide: society now    #motivation  "
      ]
     },
     "execution_count": 10,
     "metadata": {},
     "output_type": "execute_result"
    }
   ],
   "source": [
    "df = pd.read_csv(path + \"socialMedAbusive_data.csv\")\n",
    "df.head()"
   ]
  },
  {
   "cell_type": "code",
   "execution_count": 11,
   "id": "b4313610",
   "metadata": {},
   "outputs": [
    {
     "data": {
      "text/html": [
       "<div>\n",
       "<style scoped>\n",
       "    .dataframe tbody tr th:only-of-type {\n",
       "        vertical-align: middle;\n",
       "    }\n",
       "\n",
       "    .dataframe tbody tr th {\n",
       "        vertical-align: top;\n",
       "    }\n",
       "\n",
       "    .dataframe thead th {\n",
       "        text-align: right;\n",
       "    }\n",
       "</style>\n",
       "<table border=\"1\" class=\"dataframe\">\n",
       "  <thead>\n",
       "    <tr style=\"text-align: right;\">\n",
       "      <th></th>\n",
       "      <th>id</th>\n",
       "      <th>label</th>\n",
       "      <th>tweet</th>\n",
       "    </tr>\n",
       "  </thead>\n",
       "  <tbody>\n",
       "    <tr>\n",
       "      <th>31957</th>\n",
       "      <td>31958</td>\n",
       "      <td>0</td>\n",
       "      <td>ate @user isz that youuu?ðððððððððâ¤ï¸</td>\n",
       "    </tr>\n",
       "    <tr>\n",
       "      <th>31958</th>\n",
       "      <td>31959</td>\n",
       "      <td>0</td>\n",
       "      <td>to see nina turner on the airwaves trying to wrap herself in the mantle of a genuine hero like shirley chisolm. #shame #imwithher</td>\n",
       "    </tr>\n",
       "    <tr>\n",
       "      <th>31959</th>\n",
       "      <td>31960</td>\n",
       "      <td>0</td>\n",
       "      <td>listening to sad songs on a monday morning otw to work is sad</td>\n",
       "    </tr>\n",
       "    <tr>\n",
       "      <th>31960</th>\n",
       "      <td>31961</td>\n",
       "      <td>1</td>\n",
       "      <td>@user #sikh #temple vandalised in in #calgary, #wso condemns  act</td>\n",
       "    </tr>\n",
       "    <tr>\n",
       "      <th>31961</th>\n",
       "      <td>31962</td>\n",
       "      <td>0</td>\n",
       "      <td>thank you @user for you follow</td>\n",
       "    </tr>\n",
       "  </tbody>\n",
       "</table>\n",
       "</div>"
      ],
      "text/plain": [
       "          id  label  \\\n",
       "31957  31958      0   \n",
       "31958  31959      0   \n",
       "31959  31960      0   \n",
       "31960  31961      1   \n",
       "31961  31962      0   \n",
       "\n",
       "                                                                                                                                     tweet  \n",
       "31957                                                                 ate @user isz that youuu?ðððððððððâ¤ï¸   \n",
       "31958    to see nina turner on the airwaves trying to wrap herself in the mantle of a genuine hero like shirley chisolm. #shame #imwithher  \n",
       "31959                                                                      listening to sad songs on a monday morning otw to work is sad    \n",
       "31960                                                                  @user #sikh #temple vandalised in in #calgary, #wso condemns  act    \n",
       "31961                                                                                                     thank you @user for you follow    "
      ]
     },
     "execution_count": 11,
     "metadata": {},
     "output_type": "execute_result"
    }
   ],
   "source": [
    "df.tail()"
   ]
  },
  {
   "cell_type": "code",
   "execution_count": 12,
   "id": "50cc00e4",
   "metadata": {},
   "outputs": [
    {
     "data": {
      "text/plain": [
       "(31962, 3)"
      ]
     },
     "execution_count": 12,
     "metadata": {},
     "output_type": "execute_result"
    }
   ],
   "source": [
    "# Checking the shape of the data\n",
    "df.shape"
   ]
  },
  {
   "cell_type": "code",
   "execution_count": 13,
   "id": "02a004e1",
   "metadata": {},
   "outputs": [
    {
     "name": "stdout",
     "output_type": "stream",
     "text": [
      "<class 'pandas.core.frame.DataFrame'>\n",
      "RangeIndex: 31962 entries, 0 to 31961\n",
      "Data columns (total 3 columns):\n",
      " #   Column  Non-Null Count  Dtype \n",
      "---  ------  --------------  ----- \n",
      " 0   id      31962 non-null  int64 \n",
      " 1   label   31962 non-null  int64 \n",
      " 2   tweet   31962 non-null  object\n",
      "dtypes: int64(2), object(1)\n",
      "memory usage: 749.2+ KB\n"
     ]
    }
   ],
   "source": [
    "df.info()"
   ]
  },
  {
   "cell_type": "markdown",
   "id": "250cb871",
   "metadata": {},
   "source": [
    "---\n",
    "### EDA"
   ]
  },
  {
   "cell_type": "code",
   "execution_count": 14,
   "id": "f5d323dc",
   "metadata": {},
   "outputs": [
    {
     "data": {
      "text/plain": [
       "array([0, 1], dtype=int64)"
      ]
     },
     "execution_count": 14,
     "metadata": {},
     "output_type": "execute_result"
    }
   ],
   "source": [
    "df.label.unique()"
   ]
  },
  {
   "cell_type": "code",
   "execution_count": 167,
   "id": "65475c64",
   "metadata": {},
   "outputs": [
    {
     "data": {
      "image/png": "[encoded data removed]",
      "text/plain": [
       "<Figure size 600x400 with 1 Axes>"
      ]
     },
     "metadata": {},
     "output_type": "display_data"
    }
   ],
   "source": [
    "class_counts = df[\"label\"].value_counts()\n",
    "total_count = len(df)\n",
    "\n",
    "plt.figure(figsize=(6,4))\n",
    "bars = plt.bar(class_counts.index, class_counts.values)\n",
    "\n",
    "for i, (count,bar) in enumerate(zip(class_counts, bars)):\n",
    "    plt.text(bar.get_x() + bar.get_width()/2, bar.get_height() + 0.1, f\"{count} ({count/total_count:.2%})\", ha=\"center\", va=\"bottom\")\n",
    "\n",
    "plt.xlabel(\"Class\")\n",
    "plt.ylabel(\"Count\")\n",
    "plt.title(\"Class Distribution\")\n",
    "plt.show()"
   ]
  },
  {
   "cell_type": "markdown",
   "id": "09e937ff",
   "metadata": {},
   "source": [
    "From the above plot we can see that classes are imbalanced, we will fix it later."
   ]
  },
  {
   "cell_type": "code",
   "execution_count": 16,
   "id": "8f2519f1",
   "metadata": {},
   "outputs": [
    {
     "data": {
      "text/plain": [
       "id       0\n",
       "label    0\n",
       "tweet    0\n",
       "dtype: int64"
      ]
     },
     "execution_count": 16,
     "metadata": {},
     "output_type": "execute_result"
    }
   ],
   "source": [
    "# Null values check\n",
    "df.isnull().sum()"
   ]
  },
  {
   "cell_type": "code",
   "execution_count": 17,
   "id": "edaaef2b",
   "metadata": {},
   "outputs": [
    {
     "data": {
      "text/plain": [
       "(31962, 2)"
      ]
     },
     "execution_count": 17,
     "metadata": {},
     "output_type": "execute_result"
    }
   ],
   "source": [
    "# Let's drop the 'id' column as not required\n",
    "df.drop('id',axis=1,inplace =True)\n",
    "df.shape"
   ]
  },
  {
   "cell_type": "markdown",
   "id": "a634365a",
   "metadata": {},
   "source": [
    "## Second Dataset\n",
    "\n",
    "Using this new data to fix Data Imbalance"
   ]
  },
  {
   "cell_type": "code",
   "execution_count": 158,
   "id": "8a758891",
   "metadata": {},
   "outputs": [
    {
     "data": {
      "text/html": [
       "<div>\n",
       "<style scoped>\n",
       "    .dataframe tbody tr th:only-of-type {\n",
       "        vertical-align: middle;\n",
       "    }\n",
       "\n",
       "    .dataframe tbody tr th {\n",
       "        vertical-align: top;\n",
       "    }\n",
       "\n",
       "    .dataframe thead th {\n",
       "        text-align: right;\n",
       "    }\n",
       "</style>\n",
       "<table border=\"1\" class=\"dataframe\">\n",
       "  <thead>\n",
       "    <tr style=\"text-align: right;\">\n",
       "      <th></th>\n",
       "      <th>Unnamed: 0</th>\n",
       "      <th>count</th>\n",
       "      <th>hate_speech</th>\n",
       "      <th>offensive_language</th>\n",
       "      <th>neither</th>\n",
       "      <th>class</th>\n",
       "      <th>tweet</th>\n",
       "    </tr>\n",
       "  </thead>\n",
       "  <tbody>\n",
       "    <tr>\n",
       "      <th>0</th>\n",
       "      <td>0</td>\n",
       "      <td>3</td>\n",
       "      <td>0</td>\n",
       "      <td>0</td>\n",
       "      <td>3</td>\n",
       "      <td>2</td>\n",
       "      <td>!!! RT @mayasolovely: As a woman you shouldn't complain about cleaning up your house. &amp;amp; as a man you should always take the trash out...</td>\n",
       "    </tr>\n",
       "    <tr>\n",
       "      <th>1</th>\n",
       "      <td>1</td>\n",
       "      <td>3</td>\n",
       "      <td>0</td>\n",
       "      <td>3</td>\n",
       "      <td>0</td>\n",
       "      <td>1</td>\n",
       "      <td>!!!!! RT @mleew17: boy dats cold...tyga dwn bad for cuffin dat hoe in the 1st place!!</td>\n",
       "    </tr>\n",
       "    <tr>\n",
       "      <th>2</th>\n",
       "      <td>2</td>\n",
       "      <td>3</td>\n",
       "      <td>0</td>\n",
       "      <td>3</td>\n",
       "      <td>0</td>\n",
       "      <td>1</td>\n",
       "      <td>!!!!!!! RT @UrKindOfBrand Dawg!!!! RT @80sbaby4life: You ever fuck a bitch and she start to cry? You be confused as shit</td>\n",
       "    </tr>\n",
       "    <tr>\n",
       "      <th>3</th>\n",
       "      <td>3</td>\n",
       "      <td>3</td>\n",
       "      <td>0</td>\n",
       "      <td>2</td>\n",
       "      <td>1</td>\n",
       "      <td>1</td>\n",
       "      <td>!!!!!!!!! RT @C_G_Anderson: @viva_based she look like a tranny</td>\n",
       "    </tr>\n",
       "    <tr>\n",
       "      <th>4</th>\n",
       "      <td>4</td>\n",
       "      <td>6</td>\n",
       "      <td>0</td>\n",
       "      <td>6</td>\n",
       "      <td>0</td>\n",
       "      <td>1</td>\n",
       "      <td>!!!!!!!!!!!!! RT @ShenikaRoberts: The shit you hear about me might be true or it might be faker than the bitch who told it to ya &amp;#57361;</td>\n",
       "    </tr>\n",
       "  </tbody>\n",
       "</table>\n",
       "</div>"
      ],
      "text/plain": [
       "   Unnamed: 0  count  hate_speech  offensive_language  neither  class  \\\n",
       "0           0      3            0                   0        3      2   \n",
       "1           1      3            0                   3        0      1   \n",
       "2           2      3            0                   3        0      1   \n",
       "3           3      3            0                   2        1      1   \n",
       "4           4      6            0                   6        0      1   \n",
       "\n",
       "                                                                                                                                          tweet  \n",
       "0  !!! RT @mayasolovely: As a woman you shouldn't complain about cleaning up your house. &amp; as a man you should always take the trash out...  \n",
       "1                                                         !!!!! RT @mleew17: boy dats cold...tyga dwn bad for cuffin dat hoe in the 1st place!!  \n",
       "2                      !!!!!!! RT @UrKindOfBrand Dawg!!!! RT @80sbaby4life: You ever fuck a bitch and she start to cry? You be confused as shit  \n",
       "3                                                                                !!!!!!!!! RT @C_G_Anderson: @viva_based she look like a tranny  \n",
       "4     !!!!!!!!!!!!! RT @ShenikaRoberts: The shit you hear about me might be true or it might be faker than the bitch who told it to ya &#57361;  "
      ]
     },
     "execution_count": 158,
     "metadata": {},
     "output_type": "execute_result"
    }
   ],
   "source": [
    "df1 = pd.read_csv(path + \"socialMedAbusive(Labeled)_data.csv\")\n",
    "df1.head()"
   ]
  },
  {
   "cell_type": "code",
   "execution_count": 159,
   "id": "6fc5a1c8",
   "metadata": {},
   "outputs": [
    {
     "data": {
      "text/plain": [
       "(24783, 7)"
      ]
     },
     "execution_count": 159,
     "metadata": {},
     "output_type": "execute_result"
    }
   ],
   "source": [
    "# check shape\n",
    "df1.shape"
   ]
  },
  {
   "cell_type": "code",
   "execution_count": 160,
   "id": "d610b755",
   "metadata": {},
   "outputs": [
    {
     "data": {
      "text/plain": [
       "Unnamed: 0            0\n",
       "count                 0\n",
       "hate_speech           0\n",
       "offensive_language    0\n",
       "neither               0\n",
       "class                 0\n",
       "tweet                 0\n",
       "dtype: int64"
      ]
     },
     "execution_count": 160,
     "metadata": {},
     "output_type": "execute_result"
    }
   ],
   "source": [
    "# null check\n",
    "df1.isnull().sum()"
   ]
  },
  {
   "cell_type": "code",
   "execution_count": 161,
   "id": "c5bf4961",
   "metadata": {},
   "outputs": [],
   "source": [
    "# Let's drop the columns which are not required for us.\n",
    "df1.drop(['Unnamed: 0','count','hate_speech','offensive_language','neither'],axis=1,inplace=True)"
   ]
  },
  {
   "cell_type": "code",
   "execution_count": 162,
   "id": "9e6a6069",
   "metadata": {},
   "outputs": [
    {
     "data": {
      "text/html": [
       "<div>\n",
       "<style scoped>\n",
       "    .dataframe tbody tr th:only-of-type {\n",
       "        vertical-align: middle;\n",
       "    }\n",
       "\n",
       "    .dataframe tbody tr th {\n",
       "        vertical-align: top;\n",
       "    }\n",
       "\n",
       "    .dataframe thead th {\n",
       "        text-align: right;\n",
       "    }\n",
       "</style>\n",
       "<table border=\"1\" class=\"dataframe\">\n",
       "  <thead>\n",
       "    <tr style=\"text-align: right;\">\n",
       "      <th></th>\n",
       "      <th>class</th>\n",
       "      <th>tweet</th>\n",
       "    </tr>\n",
       "  </thead>\n",
       "  <tbody>\n",
       "    <tr>\n",
       "      <th>0</th>\n",
       "      <td>2</td>\n",
       "      <td>!!! RT @mayasolovely: As a woman you shouldn't complain about cleaning up your house. &amp;amp; as a man you should always take the trash out...</td>\n",
       "    </tr>\n",
       "    <tr>\n",
       "      <th>1</th>\n",
       "      <td>1</td>\n",
       "      <td>!!!!! RT @mleew17: boy dats cold...tyga dwn bad for cuffin dat hoe in the 1st place!!</td>\n",
       "    </tr>\n",
       "    <tr>\n",
       "      <th>2</th>\n",
       "      <td>1</td>\n",
       "      <td>!!!!!!! RT @UrKindOfBrand Dawg!!!! RT @80sbaby4life: You ever fuck a bitch and she start to cry? You be confused as shit</td>\n",
       "    </tr>\n",
       "    <tr>\n",
       "      <th>3</th>\n",
       "      <td>1</td>\n",
       "      <td>!!!!!!!!! RT @C_G_Anderson: @viva_based she look like a tranny</td>\n",
       "    </tr>\n",
       "    <tr>\n",
       "      <th>4</th>\n",
       "      <td>1</td>\n",
       "      <td>!!!!!!!!!!!!! RT @ShenikaRoberts: The shit you hear about me might be true or it might be faker than the bitch who told it to ya &amp;#57361;</td>\n",
       "    </tr>\n",
       "  </tbody>\n",
       "</table>\n",
       "</div>"
      ],
      "text/plain": [
       "   class  \\\n",
       "0      2   \n",
       "1      1   \n",
       "2      1   \n",
       "3      1   \n",
       "4      1   \n",
       "\n",
       "                                                                                                                                          tweet  \n",
       "0  !!! RT @mayasolovely: As a woman you shouldn't complain about cleaning up your house. &amp; as a man you should always take the trash out...  \n",
       "1                                                         !!!!! RT @mleew17: boy dats cold...tyga dwn bad for cuffin dat hoe in the 1st place!!  \n",
       "2                      !!!!!!! RT @UrKindOfBrand Dawg!!!! RT @80sbaby4life: You ever fuck a bitch and she start to cry? You be confused as shit  \n",
       "3                                                                                !!!!!!!!! RT @C_G_Anderson: @viva_based she look like a tranny  \n",
       "4     !!!!!!!!!!!!! RT @ShenikaRoberts: The shit you hear about me might be true or it might be faker than the bitch who told it to ya &#57361;  "
      ]
     },
     "execution_count": 162,
     "metadata": {},
     "output_type": "execute_result"
    }
   ],
   "source": [
    "# after removing unwanted columns\n",
    "df1.head()"
   ]
  },
  {
   "cell_type": "code",
   "execution_count": 163,
   "id": "6c572907",
   "metadata": {},
   "outputs": [
    {
     "data": {
      "text/plain": [
       "array([2, 1, 0], dtype=int64)"
      ]
     },
     "execution_count": 163,
     "metadata": {},
     "output_type": "execute_result"
    }
   ],
   "source": [
    "# unique values check in classes\n",
    "df1['class'].unique()"
   ]
  },
  {
   "cell_type": "code",
   "execution_count": 165,
   "id": "4d3192b1",
   "metadata": {},
   "outputs": [
    {
     "data": {
      "image/png": "[encoded data removed]",
      "text/plain": [
       "<Figure size 600x400 with 1 Axes>"
      ]
     },
     "metadata": {},
     "output_type": "display_data"
    }
   ],
   "source": [
    "class_counts = df1[\"class\"].value_counts()\n",
    "total_count = len(df1)\n",
    "\n",
    "plt.figure(figsize=(6,4))\n",
    "bars = plt.bar(class_counts.index, class_counts.values)\n",
    "\n",
    "for i, (count,bar) in enumerate(zip(class_counts, bars)):\n",
    "    plt.text(bar.get_x() + bar.get_width()/2, bar.get_height() + 0.1, f\"{count} ({count/total_count:.2%})\", ha=\"center\", va=\"bottom\")\n",
    "\n",
    "plt.xlabel(\"Class\")\n",
    "plt.ylabel(\"Count\")\n",
    "plt.title(\"Class Distribution\")\n",
    "plt.show()"
   ]
  },
  {
   "cell_type": "markdown",
   "id": "4f31ce53",
   "metadata": {},
   "source": [
    "- `class 0: hate`, `class 1: abusive`, and `class 2: no hate`\n",
    "- merge valus of class 0 into class 1"
   ]
  },
  {
   "cell_type": "code",
   "execution_count": 25,
   "id": "cf6d3ea7",
   "metadata": {},
   "outputs": [
    {
     "data": {
      "text/plain": [
       "array([2, 1, 0], dtype=int64)"
      ]
     },
     "execution_count": 25,
     "metadata": {},
     "output_type": "execute_result"
    }
   ],
   "source": [
    "df1['class'].unique()"
   ]
  },
  {
   "cell_type": "code",
   "execution_count": 26,
   "id": "e96be93d",
   "metadata": {
    "scrolled": true
   },
   "outputs": [
    {
     "data": {
      "text/plain": [
       "class    1430\n",
       "tweet    1430\n",
       "dtype: int64"
      ]
     },
     "execution_count": 26,
     "metadata": {},
     "output_type": "execute_result"
    }
   ],
   "source": [
    "# total values in the class 0\n",
    "df1[df1['class']==0].count()"
   ]
  },
  {
   "cell_type": "markdown",
   "id": "033c8eda",
   "metadata": {},
   "source": [
    "#### Replace the value of 0 to 1"
   ]
  },
  {
   "cell_type": "code",
   "execution_count": 27,
   "id": "7b5e9723",
   "metadata": {},
   "outputs": [],
   "source": [
    "# replace value of 0 to 1\n",
    "df1[\"class\"].replace({0:1},inplace=True)"
   ]
  },
  {
   "cell_type": "code",
   "execution_count": 28,
   "id": "1c2e0873",
   "metadata": {},
   "outputs": [
    {
     "data": {
      "text/plain": [
       "array([2, 1], dtype=int64)"
      ]
     },
     "execution_count": 28,
     "metadata": {},
     "output_type": "execute_result"
    }
   ],
   "source": [
    "df1[\"class\"].unique()"
   ]
  },
  {
   "cell_type": "markdown",
   "id": "4d2fc916",
   "metadata": {},
   "source": [
    "#### Replace value of 2 to 0"
   ]
  },
  {
   "cell_type": "code",
   "execution_count": 31,
   "id": "fc4e5521",
   "metadata": {},
   "outputs": [],
   "source": [
    "# Let's replace the value of 2 to 0.\n",
    "df1[\"class\"].replace({2:0},inplace=True)"
   ]
  },
  {
   "cell_type": "code",
   "execution_count": 157,
   "id": "dcfe6bca",
   "metadata": {},
   "outputs": [
    {
     "data": {
      "image/png": "[encoded data removed]",
      "text/plain": [
       "<Figure size 600x400 with 1 Axes>"
      ]
     },
     "metadata": {},
     "output_type": "display_data"
    }
   ],
   "source": [
    "class_counts = df1[\"label\"].value_counts()\n",
    "total_count = len(df1)\n",
    "\n",
    "plt.figure(figsize=(6,4))\n",
    "bars = plt.bar(class_counts.index, class_counts.values)\n",
    "\n",
    "for i, (count,bar) in enumerate(zip(class_counts, bars)):\n",
    "    plt.text(bar.get_x() + bar.get_width()/2, bar.get_height() + 0.1, f\"{count} ({count/total_count:.2%})\", ha=\"center\", va=\"bottom\")\n",
    "\n",
    "plt.xlabel(\"Class\")\n",
    "plt.ylabel(\"Count\")\n",
    "plt.title(\"Class Distribution\")\n",
    "plt.show()"
   ]
  },
  {
   "cell_type": "code",
   "execution_count": 33,
   "id": "cb23d660",
   "metadata": {},
   "outputs": [
    {
     "data": {
      "text/html": [
       "<div>\n",
       "<style scoped>\n",
       "    .dataframe tbody tr th:only-of-type {\n",
       "        vertical-align: middle;\n",
       "    }\n",
       "\n",
       "    .dataframe tbody tr th {\n",
       "        vertical-align: top;\n",
       "    }\n",
       "\n",
       "    .dataframe thead th {\n",
       "        text-align: right;\n",
       "    }\n",
       "</style>\n",
       "<table border=\"1\" class=\"dataframe\">\n",
       "  <thead>\n",
       "    <tr style=\"text-align: right;\">\n",
       "      <th></th>\n",
       "      <th>label</th>\n",
       "      <th>tweet</th>\n",
       "    </tr>\n",
       "  </thead>\n",
       "  <tbody>\n",
       "    <tr>\n",
       "      <th>0</th>\n",
       "      <td>0</td>\n",
       "      <td>!!! RT @mayasolovely: As a woman you shouldn't complain about cleaning up your house. &amp;amp; as a man you should always take the trash out...</td>\n",
       "    </tr>\n",
       "    <tr>\n",
       "      <th>1</th>\n",
       "      <td>1</td>\n",
       "      <td>!!!!! RT @mleew17: boy dats cold...tyga dwn bad for cuffin dat hoe in the 1st place!!</td>\n",
       "    </tr>\n",
       "  </tbody>\n",
       "</table>\n",
       "</div>"
      ],
      "text/plain": [
       "   label  \\\n",
       "0      0   \n",
       "1      1   \n",
       "\n",
       "                                                                                                                                          tweet  \n",
       "0  !!! RT @mayasolovely: As a woman you shouldn't complain about cleaning up your house. &amp; as a man you should always take the trash out...  \n",
       "1                                                         !!!!! RT @mleew17: boy dats cold...tyga dwn bad for cuffin dat hoe in the 1st place!!  "
      ]
     },
     "execution_count": 33,
     "metadata": {},
     "output_type": "execute_result"
    }
   ],
   "source": [
    "# change column name of 'class' to label\n",
    "df1.rename(columns={'class':'label'},inplace=True)\n",
    "df1.head(2)"
   ]
  },
  {
   "cell_type": "code",
   "execution_count": 34,
   "id": "9a7f9d3c",
   "metadata": {},
   "outputs": [
    {
     "data": {
      "text/plain": [
       "\"!!! RT @mayasolovely: As a woman you shouldn't complain about cleaning up your house. &amp; as a man you should always take the trash out...\""
      ]
     },
     "execution_count": 34,
     "metadata": {},
     "output_type": "execute_result"
    }
   ],
   "source": [
    "# check first data point \n",
    "df1.iloc[0]['tweet']"
   ]
  },
  {
   "cell_type": "markdown",
   "id": "2e192d4b",
   "metadata": {},
   "source": [
    "#### See both datasets now"
   ]
  },
  {
   "cell_type": "code",
   "execution_count": 35,
   "id": "4f182571",
   "metadata": {},
   "outputs": [
    {
     "data": {
      "text/html": [
       "<div>\n",
       "<style scoped>\n",
       "    .dataframe tbody tr th:only-of-type {\n",
       "        vertical-align: middle;\n",
       "    }\n",
       "\n",
       "    .dataframe tbody tr th {\n",
       "        vertical-align: top;\n",
       "    }\n",
       "\n",
       "    .dataframe thead th {\n",
       "        text-align: right;\n",
       "    }\n",
       "</style>\n",
       "<table border=\"1\" class=\"dataframe\">\n",
       "  <thead>\n",
       "    <tr style=\"text-align: right;\">\n",
       "      <th></th>\n",
       "      <th>label</th>\n",
       "      <th>tweet</th>\n",
       "    </tr>\n",
       "  </thead>\n",
       "  <tbody>\n",
       "    <tr>\n",
       "      <th>0</th>\n",
       "      <td>0</td>\n",
       "      <td>@user when a father is dysfunctional and is so selfish he drags his kids into his dysfunction.   #run</td>\n",
       "    </tr>\n",
       "    <tr>\n",
       "      <th>1</th>\n",
       "      <td>0</td>\n",
       "      <td>@user @user thanks for #lyft credit i can't use cause they don't offer wheelchair vans in pdx.    #disapointed #getthanked</td>\n",
       "    </tr>\n",
       "  </tbody>\n",
       "</table>\n",
       "</div>"
      ],
      "text/plain": [
       "   label  \\\n",
       "0      0   \n",
       "1      0   \n",
       "\n",
       "                                                                                                                        tweet  \n",
       "0                       @user when a father is dysfunctional and is so selfish he drags his kids into his dysfunction.   #run  \n",
       "1  @user @user thanks for #lyft credit i can't use cause they don't offer wheelchair vans in pdx.    #disapointed #getthanked  "
      ]
     },
     "execution_count": 35,
     "metadata": {},
     "output_type": "execute_result"
    }
   ],
   "source": [
    "df.head(2)"
   ]
  },
  {
   "cell_type": "code",
   "execution_count": 36,
   "id": "89e9b0c8",
   "metadata": {},
   "outputs": [
    {
     "data": {
      "text/html": [
       "<div>\n",
       "<style scoped>\n",
       "    .dataframe tbody tr th:only-of-type {\n",
       "        vertical-align: middle;\n",
       "    }\n",
       "\n",
       "    .dataframe tbody tr th {\n",
       "        vertical-align: top;\n",
       "    }\n",
       "\n",
       "    .dataframe thead th {\n",
       "        text-align: right;\n",
       "    }\n",
       "</style>\n",
       "<table border=\"1\" class=\"dataframe\">\n",
       "  <thead>\n",
       "    <tr style=\"text-align: right;\">\n",
       "      <th></th>\n",
       "      <th>label</th>\n",
       "      <th>tweet</th>\n",
       "    </tr>\n",
       "  </thead>\n",
       "  <tbody>\n",
       "    <tr>\n",
       "      <th>0</th>\n",
       "      <td>0</td>\n",
       "      <td>!!! RT @mayasolovely: As a woman you shouldn't complain about cleaning up your house. &amp;amp; as a man you should always take the trash out...</td>\n",
       "    </tr>\n",
       "    <tr>\n",
       "      <th>1</th>\n",
       "      <td>1</td>\n",
       "      <td>!!!!! RT @mleew17: boy dats cold...tyga dwn bad for cuffin dat hoe in the 1st place!!</td>\n",
       "    </tr>\n",
       "  </tbody>\n",
       "</table>\n",
       "</div>"
      ],
      "text/plain": [
       "   label  \\\n",
       "0      0   \n",
       "1      1   \n",
       "\n",
       "                                                                                                                                          tweet  \n",
       "0  !!! RT @mayasolovely: As a woman you shouldn't complain about cleaning up your house. &amp; as a man you should always take the trash out...  \n",
       "1                                                         !!!!! RT @mleew17: boy dats cold...tyga dwn bad for cuffin dat hoe in the 1st place!!  "
      ]
     },
     "execution_count": 36,
     "metadata": {},
     "output_type": "execute_result"
    }
   ],
   "source": [
    "df1.head(2)"
   ]
  },
  {
   "cell_type": "code",
   "execution_count": 37,
   "id": "fa692b0c",
   "metadata": {},
   "outputs": [
    {
     "data": {
      "text/plain": [
       "((24783, 2), (31962, 2))"
      ]
     },
     "execution_count": 37,
     "metadata": {},
     "output_type": "execute_result"
    }
   ],
   "source": [
    "df1.shape, df.shape"
   ]
  },
  {
   "cell_type": "code",
   "execution_count": 38,
   "id": "5f131a3c",
   "metadata": {},
   "outputs": [
    {
     "data": {
      "text/html": [
       "<div>\n",
       "<style scoped>\n",
       "    .dataframe tbody tr th:only-of-type {\n",
       "        vertical-align: middle;\n",
       "    }\n",
       "\n",
       "    .dataframe tbody tr th {\n",
       "        vertical-align: top;\n",
       "    }\n",
       "\n",
       "    .dataframe thead th {\n",
       "        text-align: right;\n",
       "    }\n",
       "</style>\n",
       "<table border=\"1\" class=\"dataframe\">\n",
       "  <thead>\n",
       "    <tr style=\"text-align: right;\">\n",
       "      <th></th>\n",
       "      <th>label</th>\n",
       "      <th>tweet</th>\n",
       "    </tr>\n",
       "  </thead>\n",
       "  <tbody>\n",
       "    <tr>\n",
       "      <th>0</th>\n",
       "      <td>0</td>\n",
       "      <td>!!! RT @mayasolovely: As a woman you shouldn't complain about cleaning up your house. &amp;amp; as a man you should always take the trash out...</td>\n",
       "    </tr>\n",
       "    <tr>\n",
       "      <th>1</th>\n",
       "      <td>1</td>\n",
       "      <td>!!!!! RT @mleew17: boy dats cold...tyga dwn bad for cuffin dat hoe in the 1st place!!</td>\n",
       "    </tr>\n",
       "    <tr>\n",
       "      <th>2</th>\n",
       "      <td>1</td>\n",
       "      <td>!!!!!!! RT @UrKindOfBrand Dawg!!!! RT @80sbaby4life: You ever fuck a bitch and she start to cry? You be confused as shit</td>\n",
       "    </tr>\n",
       "    <tr>\n",
       "      <th>3</th>\n",
       "      <td>1</td>\n",
       "      <td>!!!!!!!!! RT @C_G_Anderson: @viva_based she look like a tranny</td>\n",
       "    </tr>\n",
       "    <tr>\n",
       "      <th>4</th>\n",
       "      <td>1</td>\n",
       "      <td>!!!!!!!!!!!!! RT @ShenikaRoberts: The shit you hear about me might be true or it might be faker than the bitch who told it to ya &amp;#57361;</td>\n",
       "    </tr>\n",
       "  </tbody>\n",
       "</table>\n",
       "</div>"
      ],
      "text/plain": [
       "   label  \\\n",
       "0      0   \n",
       "1      1   \n",
       "2      1   \n",
       "3      1   \n",
       "4      1   \n",
       "\n",
       "                                                                                                                                          tweet  \n",
       "0  !!! RT @mayasolovely: As a woman you shouldn't complain about cleaning up your house. &amp; as a man you should always take the trash out...  \n",
       "1                                                         !!!!! RT @mleew17: boy dats cold...tyga dwn bad for cuffin dat hoe in the 1st place!!  \n",
       "2                      !!!!!!! RT @UrKindOfBrand Dawg!!!! RT @80sbaby4life: You ever fuck a bitch and she start to cry? You be confused as shit  \n",
       "3                                                                                !!!!!!!!! RT @C_G_Anderson: @viva_based she look like a tranny  \n",
       "4     !!!!!!!!!!!!! RT @ShenikaRoberts: The shit you hear about me might be true or it might be faker than the bitch who told it to ya &#57361;  "
      ]
     },
     "execution_count": 38,
     "metadata": {},
     "output_type": "execute_result"
    }
   ],
   "source": [
    "# concating both data into a single data frame\n",
    "frame = [df1,df]\n",
    "df_final = pd.concat(frame)\n",
    "df_final.head()"
   ]
  },
  {
   "cell_type": "code",
   "execution_count": 39,
   "id": "00da2365",
   "metadata": {},
   "outputs": [
    {
     "data": {
      "text/plain": [
       "(56745, 2)"
      ]
     },
     "execution_count": 39,
     "metadata": {},
     "output_type": "execute_result"
    }
   ],
   "source": [
    "df_final.shape"
   ]
  },
  {
   "cell_type": "code",
   "execution_count": 156,
   "id": "4e4a7343",
   "metadata": {},
   "outputs": [
    {
     "data": {
      "image/png": "[encoded data removed]",
      "text/plain": [
       "<Figure size 600x400 with 1 Axes>"
      ]
     },
     "metadata": {},
     "output_type": "display_data"
    }
   ],
   "source": [
    "class_counts = df_final[\"label\"].value_counts()\n",
    "total_count = len(df_final)\n",
    "\n",
    "plt.figure(figsize=(6,4))\n",
    "bars = plt.bar(class_counts.index, class_counts.values)\n",
    "\n",
    "for i, (count,bar) in enumerate(zip(class_counts, bars)):\n",
    "    plt.text(bar.get_x() + bar.get_width()/2, bar.get_height() + 0.1, f\"{count} ({count/total_count:.2%})\", ha=\"center\", va=\"bottom\")\n",
    "\n",
    "plt.xlabel(\"Class\")\n",
    "plt.ylabel(\"Count\")\n",
    "plt.title(\"Class Distribution\")\n",
    "plt.show()\n"
   ]
  },
  {
   "cell_type": "markdown",
   "id": "55367e8f",
   "metadata": {},
   "source": [
    "See we have incresed the number of minory class, now data is less imbalaced than before"
   ]
  },
  {
   "cell_type": "markdown",
   "id": "3fcbd900",
   "metadata": {},
   "source": [
    "## Working On Text Data now\n",
    "\n",
    "Now we have to work with our text data, and we have to make it more interpretable for algorithms"
   ]
  },
  {
   "cell_type": "code",
   "execution_count": 41,
   "id": "f2d5b1c7",
   "metadata": {},
   "outputs": [],
   "source": [
    "# Initializing a Snowball Stemmer (reducing words to their base form stem)\n",
    "stemmer = nltk.SnowballStemmer(\"english\")\n",
    "\n",
    "# Loading English stopwords\n",
    "stopword = set(stopwords.words('english'))"
   ]
  },
  {
   "cell_type": "markdown",
   "id": "6de64c64",
   "metadata": {},
   "source": [
    "### Function for Text Cleaning\n",
    "\n",
    "Lets create a function for text cleaning, that will work in this way:\n",
    "\n",
    "* Lowercasing for consistent processing\n",
    "* Removing unwanted content like square brackets, URLs, HTML tags, and punctuation\n",
    "* Removing words containing numbers\n",
    "* Removing stop words \n",
    "* Applying stemming \n",
    "\n",
    "You can customize this function further by:\n",
    "\n",
    "* Adding or removing specific cleaning steps based on your needs\n",
    "* Using different regular expressions for more precise matching\n",
    "* Changing the stop word list"
   ]
  },
  {
   "cell_type": "code",
   "execution_count": 43,
   "id": "4fc3ff28",
   "metadata": {},
   "outputs": [],
   "source": [
    "### Text Cleaning Function, which takes in string as an input \n",
    "def clean_data(words):\n",
    "    words = str(words).lower() #ensures, text is a string and converts it to lowercase for consistent processing.\n",
    "    words = re.sub('\\[.*?\\]', '', words) #regular expression(re) to remove any content enclosed in square brackets [].\n",
    "    words = re.sub('https?://\\S+|www\\.\\S+', '', words) #re to removes any URLs starting with http or https, followed by any characters, or any text starting with www.\n",
    "    words = re.sub('<.*?>+', '', words) #removes any HTML tags enclosed in angle brackets <>.\n",
    "    words = re.sub('[%s]' % re.escape(string.punctuation), '', words) #removes all punctuation characters that matches any character in the string.punctuation module.\n",
    "    words = re.sub('\\n', '', words) #removes any newline characters (\\n)\n",
    "    words = re.sub('\\w*\\d\\w*', '', words) #removes any words that contain both letters and numbers\n",
    "    \n",
    "    words = [word for word in words.split(' ') if words not in stopword] #splits text into words, removes stop words (using a list named stopword), and then joins the remaining words back into a string\n",
    "    words = \" \".join(words) \n",
    "    \n",
    "    #You need to ensure temmer object is defined and loaded before\n",
    "    words = [stemmer.stem(words) for word in words.split(' ')] #applies stemming to each word using the stemmer object.\n",
    "    words = \" \".join(words) #joins the stemmed words (or original words if no stemming was done) back into a single string\n",
    "    return words"
   ]
  },
  {
   "cell_type": "code",
   "execution_count": 44,
   "id": "454f5353",
   "metadata": {},
   "outputs": [
    {
     "data": {
      "text/plain": [
       "0    !!! RT @mayasolovely: As a woman you shouldn't complain about cleaning up your house. &amp; as a man you should always take the trash out...\n",
       "1                                                           !!!!! RT @mleew17: boy dats cold...tyga dwn bad for cuffin dat hoe in the 1st place!!\n",
       "2                        !!!!!!! RT @UrKindOfBrand Dawg!!!! RT @80sbaby4life: You ever fuck a bitch and she start to cry? You be confused as shit\n",
       "3                                                                                  !!!!!!!!! RT @C_G_Anderson: @viva_based she look like a tranny\n",
       "4       !!!!!!!!!!!!! RT @ShenikaRoberts: The shit you hear about me might be true or it might be faker than the bitch who told it to ya &#57361;\n",
       "Name: tweet, dtype: object"
      ]
     },
     "execution_count": 44,
     "metadata": {},
     "output_type": "execute_result"
    }
   ],
   "source": [
    "### these are tweets at hand - uncleaned\n",
    "df_final['tweet'].head()"
   ]
  },
  {
   "cell_type": "code",
   "execution_count": null,
   "id": "fe410fd2",
   "metadata": {},
   "outputs": [],
   "source": [
    "### using above function for cleaning data at hande\n",
    "df_final['tweet'] = df_final['tweet'].apply(clean_data)"
   ]
  },
  {
   "cell_type": "code",
   "execution_count": 47,
   "id": "b35676e3",
   "metadata": {},
   "outputs": [
    {
     "data": {
      "text/html": [
       "<div>\n",
       "<style scoped>\n",
       "    .dataframe tbody tr th:only-of-type {\n",
       "        vertical-align: middle;\n",
       "    }\n",
       "\n",
       "    .dataframe tbody tr th {\n",
       "        vertical-align: top;\n",
       "    }\n",
       "\n",
       "    .dataframe thead th {\n",
       "        text-align: right;\n",
       "    }\n",
       "</style>\n",
       "<table border=\"1\" class=\"dataframe\">\n",
       "  <thead>\n",
       "    <tr style=\"text-align: right;\">\n",
       "      <th></th>\n",
       "      <th>label</th>\n",
       "      <th>tweet</th>\n",
       "    </tr>\n",
       "  </thead>\n",
       "  <tbody>\n",
       "    <tr>\n",
       "      <th>0</th>\n",
       "      <td>0</td>\n",
       "      <td>rt mayasolovely as a woman you shouldnt complain about cleaning up your house amp as a man you should always take the trash out  rt mayasolovely as a woman you shouldnt complain about cleaning up your house amp as a man you should always take the trash out  rt mayasolovely as a woman you should...</td>\n",
       "    </tr>\n",
       "    <tr>\n",
       "      <th>1</th>\n",
       "      <td>1</td>\n",
       "      <td>rt  boy dats coldtyga dwn bad for cuffin dat hoe in the  plac  rt  boy dats coldtyga dwn bad for cuffin dat hoe in the  plac  rt  boy dats coldtyga dwn bad for cuffin dat hoe in the  plac  rt  boy dats coldtyga dwn bad for cuffin dat hoe in the  plac  rt  boy dats coldtyga dwn bad for cuffin da...</td>\n",
       "    </tr>\n",
       "    <tr>\n",
       "      <th>2</th>\n",
       "      <td>1</td>\n",
       "      <td>rt urkindofbrand dawg rt  you ever fuck a bitch and she start to cry you be confused as shit  rt urkindofbrand dawg rt  you ever fuck a bitch and she start to cry you be confused as shit  rt urkindofbrand dawg rt  you ever fuck a bitch and she start to cry you be confused as shit  rt urkindofbr...</td>\n",
       "    </tr>\n",
       "    <tr>\n",
       "      <th>3</th>\n",
       "      <td>1</td>\n",
       "      <td>rt cganderson vivabased she look like a tranni  rt cganderson vivabased she look like a tranni  rt cganderson vivabased she look like a tranni  rt cganderson vivabased she look like a tranni  rt cganderson vivabased she look like a tranni  rt cganderson vivabased she look like a tranni  rt cgan...</td>\n",
       "    </tr>\n",
       "    <tr>\n",
       "      <th>4</th>\n",
       "      <td>1</td>\n",
       "      <td>rt shenikaroberts the shit you hear about me might be true or it might be faker than the bitch who told it to ya   rt shenikaroberts the shit you hear about me might be true or it might be faker than the bitch who told it to ya   rt shenikaroberts the shit you hear about me might be true or it ...</td>\n",
       "    </tr>\n",
       "  </tbody>\n",
       "</table>\n",
       "</div>"
      ],
      "text/plain": [
       "   label  \\\n",
       "0      0   \n",
       "1      1   \n",
       "2      1   \n",
       "3      1   \n",
       "4      1   \n",
       "\n",
       "                                                                                                                                                                                                                                                                                                         tweet  \n",
       "0   rt mayasolovely as a woman you shouldnt complain about cleaning up your house amp as a man you should always take the trash out  rt mayasolovely as a woman you shouldnt complain about cleaning up your house amp as a man you should always take the trash out  rt mayasolovely as a woman you should...  \n",
       "1   rt  boy dats coldtyga dwn bad for cuffin dat hoe in the  plac  rt  boy dats coldtyga dwn bad for cuffin dat hoe in the  plac  rt  boy dats coldtyga dwn bad for cuffin dat hoe in the  plac  rt  boy dats coldtyga dwn bad for cuffin dat hoe in the  plac  rt  boy dats coldtyga dwn bad for cuffin da...  \n",
       "2   rt urkindofbrand dawg rt  you ever fuck a bitch and she start to cry you be confused as shit  rt urkindofbrand dawg rt  you ever fuck a bitch and she start to cry you be confused as shit  rt urkindofbrand dawg rt  you ever fuck a bitch and she start to cry you be confused as shit  rt urkindofbr...  \n",
       "3   rt cganderson vivabased she look like a tranni  rt cganderson vivabased she look like a tranni  rt cganderson vivabased she look like a tranni  rt cganderson vivabased she look like a tranni  rt cganderson vivabased she look like a tranni  rt cganderson vivabased she look like a tranni  rt cgan...  \n",
       "4   rt shenikaroberts the shit you hear about me might be true or it might be faker than the bitch who told it to ya   rt shenikaroberts the shit you hear about me might be true or it might be faker than the bitch who told it to ya   rt shenikaroberts the shit you hear about me might be true or it ...  "
      ]
     },
     "execution_count": 47,
     "metadata": {},
     "output_type": "execute_result"
    }
   ],
   "source": [
    "### cleaned one\n",
    "df_final.head()"
   ]
  },
  {
   "cell_type": "code",
   "execution_count": 49,
   "id": "74e387de",
   "metadata": {},
   "outputs": [
    {
     "data": {
      "text/plain": [
       "((56745,), (56745,))"
      ]
     },
     "execution_count": 49,
     "metadata": {},
     "output_type": "execute_result"
    }
   ],
   "source": [
    "### Dependent and independent variables \n",
    "x = df_final['tweet']\n",
    "y = df_final['label']\n",
    "\n",
    "x.shape, y.shape"
   ]
  },
  {
   "cell_type": "code",
   "execution_count": 50,
   "id": "7ad39597",
   "metadata": {},
   "outputs": [
    {
     "name": "stdout",
     "output_type": "stream",
     "text": [
      "(42558,) (42558,)\n",
      "(14187,) (14187,)\n"
     ]
    }
   ],
   "source": [
    "### data split ---> (train and test)\n",
    "x_train,x_test,y_train,y_test = train_test_split(x,y,random_state=108)\n",
    "\n",
    "### shape check\n",
    "print(x_train.shape,y_train.shape)\n",
    "print(x_test.shape,y_test.shape)"
   ]
  },
  {
   "cell_type": "code",
   "execution_count": 51,
   "id": "4ca2c392",
   "metadata": {},
   "outputs": [
    {
     "data": {
      "text/plain": [
       "(pandas.core.series.Series,\n",
       " pandas.core.series.Series,\n",
       " pandas.core.series.Series,\n",
       " pandas.core.series.Series)"
      ]
     },
     "execution_count": 51,
     "metadata": {},
     "output_type": "execute_result"
    }
   ],
   "source": [
    "### type check\n",
    "type(x_test), type(y_test), type(x_train), type(y_train)"
   ]
  },
  {
   "cell_type": "code",
   "execution_count": 52,
   "id": "84f4989e",
   "metadata": {},
   "outputs": [],
   "source": [
    "# limmiting vocabulary size and preventing overfitting on rare words --> max_words\n",
    "max_words = 50000 #maximum number of words tokenizer will consider when creating vocabulary\n",
    "# helps ensure all sequences have the same length for processing by neural networks --> max_len\n",
    "max_len = 300 #maximum length of each sequence (sentence) after padding\n",
    "# tokenizer will map each word in training data to a unique integer\n",
    "tokenizer = Tokenizer(num_words=max_words) #creating a new Tokenizer object with specified num_words parameter\n",
    "# fitting tokenizer to training data (x_train)\n",
    "tokenizer.fit_on_texts(x_train) #building vocabulary by counting occurrences of each word\n",
    "# using trained tokenizer to convert each text in x_train into a sequence of integers representing corresponding words\n",
    "sequences = tokenizer.texts_to_sequences(x_train)\n",
    "# pad_sequences function to pad each sequence in sequences with zeros to ensure they all have same length of max_len\n",
    "sequences_matrix = pad_sequences(sequences,maxlen=max_len) #necessary for neural network input processing"
   ]
  },
  {
   "cell_type": "code",
   "execution_count": 53,
   "id": "52f2c3b0",
   "metadata": {},
   "outputs": [
    {
     "name": "stdout",
     "output_type": "stream",
     "text": [
      "Model: \"sequential\"\n",
      "_________________________________________________________________\n",
      " Layer (type)                Output Shape              Param #   \n",
      "=================================================================\n",
      " embedding (Embedding)       (None, 300, 100)          5000000   \n",
      "                                                                 \n",
      " spatial_dropout1d (SpatialD  (None, 300, 100)         0         \n",
      " ropout1D)                                                       \n",
      "                                                                 \n",
      " lstm (LSTM)                 (None, 100)               80400     \n",
      "                                                                 \n",
      " dense (Dense)               (None, 1)                 101       \n",
      "                                                                 \n",
      "=================================================================\n",
      "Total params: 5,080,501\n",
      "Trainable params: 5,080,501\n",
      "Non-trainable params: 0\n",
      "_________________________________________________________________\n"
     ]
    }
   ],
   "source": [
    "model = Sequential() #defining a sequential model, here layers are added sequentially one after another\n",
    "# vector captures semantic information about word, allowing model to learn relationships between words\n",
    "model.add(Embedding(max_words,100,input_length=max_len)) #embed each word in vocabulary (max_words) into a 100-dimensional vector\n",
    "# randomly drops out 20% of features (embedding vectors) from each sequence in batch\n",
    "model.add(SpatialDropout1D(0.2)) #prevent overfitting and improve model generalization\n",
    "# (LSTM) network with 100 units\n",
    "model.add(LSTM(100,dropout=0.2,recurrent_dropout=0.2)) #randomly dropping out some units during training\n",
    "# adding a dense layer with 1 neuron and a sigmoid activation function\n",
    "model.add(Dense(1,activation='sigmoid')) #it's a binary classification task (1 output) only, so sigmoid\n",
    "model.summary() #prints model architecture and layer details\n",
    "model.compile(loss='binary_crossentropy',optimizer=RMSprop(),metrics=['accuracy']) #specifies the loss function, optimizer, and evaluation metric"
   ]
  },
  {
   "cell_type": "code",
   "execution_count": 56,
   "id": "34605bf2",
   "metadata": {},
   "outputs": [],
   "source": [
    "### Defining Callbacks\n",
    "from tensorflow.keras.callbacks import EarlyStopping, ModelCheckpoint\n",
    "\n",
    "early_stopping = EarlyStopping(monitor=\"val_loss\", patience=5)  #stop if val_loss doesn't improve for 5 epochs\n",
    "checkpoint = ModelCheckpoint(filepath=\"model_{epoch:02d}.h5\", save_best_only=True)  #save best model every epoch"
   ]
  },
  {
   "cell_type": "markdown",
   "id": "7fb0dc25",
   "metadata": {},
   "source": [
    "### Analyzing history variable can help you in \n",
    "\n",
    "* `Identify overfitting:` If the training loss decreases but the validation loss increases, it indicates overfitting. You can adjust hyperparameters or use regularization techniques to address this\n",
    "* `Track model performance:` The loss and accuracy curves provide a visual representation of how the model is learning\n",
    "* `Debug training issues:` Identifying stagnating loss or erratic behavior can help diagnose problems with your model architecture, data, or training process\n",
    "* `Optimize hyperparameters:` Analyzing how different hyperparameters affect the learning process allows you to find the optimal configuration for your task"
   ]
  },
  {
   "cell_type": "code",
   "execution_count": 59,
   "id": "87cbb9fb",
   "metadata": {},
   "outputs": [
    {
     "name": "stdout",
     "output_type": "stream",
     "text": [
      "Epoch 1/10\n"
     ]
    },
    {
     "name": "stdout",
     "output_type": "stream",
     "text": [
      "282/282 [==============================] - 2740s 10s/step - loss: 0.0568 - accuracy: 0.9822 - val_loss: 0.2355 - val_accuracy: 0.8979\n",
      "Epoch 2/10\n",
      "282/282 [==============================] - 2576s 9s/step - loss: 0.0504 - accuracy: 0.9842 - val_loss: 0.2919 - val_accuracy: 0.9066\n",
      "Epoch 3/10\n",
      "282/282 [==============================] - 2555s 9s/step - loss: 0.0465 - accuracy: 0.9855 - val_loss: 0.2017 - val_accuracy: 0.9262\n",
      "Epoch 4/10\n",
      "282/282 [==============================] - 2522s 9s/step - loss: 0.0430 - accuracy: 0.9868 - val_loss: 0.2165 - val_accuracy: 0.9215\n",
      "Epoch 5/10\n",
      "282/282 [==============================] - 2583s 9s/step - loss: 0.0394 - accuracy: 0.9880 - val_loss: 0.2652 - val_accuracy: 0.9062\n",
      "Epoch 6/10\n",
      "282/282 [==============================] - 2618s 9s/step - loss: 0.0354 - accuracy: 0.9890 - val_loss: 0.3167 - val_accuracy: 0.8795\n",
      "Epoch 7/10\n",
      "282/282 [==============================] - 2656s 9s/step - loss: 0.0332 - accuracy: 0.9896 - val_loss: 0.3334 - val_accuracy: 0.8917\n",
      "Epoch 8/10\n",
      "282/282 [==============================] - 2663s 9s/step - loss: 0.0310 - accuracy: 0.9904 - val_loss: 0.3478 - val_accuracy: 0.8772\n",
      "<keras.callbacks.History object at 0x00000210894AD730>\n"
     ]
    }
   ],
   "source": [
    "### fitting above defined model to training data (sequences_matrix and y_train)\n",
    "history = model.fit(sequences_matrix,y_train,batch_size=121,epochs=10,validation_split=0.2,callbacks=[early_stopping,checkpoint])\n",
    "print(history)"
   ]
  },
  {
   "cell_type": "markdown",
   "id": "b1887afc",
   "metadata": {},
   "source": [
    "### How to Interpret Plot\n",
    "`Here's a breakdown of what the plot likely shows:`\n",
    "\n",
    "1. `Axes:`\n",
    "* X-axis: Represents `training epoch`` (one iteration over entire training dataset)\n",
    "* Y-axis: Represents `loss value`. Lower values indicate better performance\n",
    "\n",
    "2. `Lines:``\n",
    "\n",
    "* `Training Loss (blue line)`: This line shows training loss for each epoch. Ideally, it should decrease steadily over time as model learns from training data\n",
    "* `Validation Loss (orange line)`: This line shows loss on validation data, which is a held-out subset of training data used to evaluate model's generalizability to unseen data. Ideally, validation loss should also decrease or at least remain stable over time, indicating model is not overfitting to training data\n",
    "\n",
    "3. `Interpretation:``\n",
    "\n",
    "Based on our code and fact that we're using early stopping, here are some possible interpretations of plot:\n",
    "\n",
    "* `Good scenario:` If both lines decrease steadily and validation loss remains consistently lower than training loss (forming a clear gap between lines), it suggests model is learning effectively and generalizing well.\n",
    "* `Overfitting:` If training loss decreases rapidly but validation loss plateaus or even increases, it indicates overfitting. Model is memorizing training data but not learning to generalize to unseen data. Early stopping likely prevented further training in this case.\n",
    "* `Underfitting:` If both lines remain high or fluctuate significantly, it suggests model is not learning effectively from data. You might need to adjust hyperparameters or try a different model architecture.\n",
    "\n",
    "\n",
    "**`Additional factors to consider`**\n",
    "\n",
    "* `Scale of Y-axis`: Absolute values of loss are less important than overall trend and relative difference between lines.\n",
    "* `Number of epochs`: Interpretation may depend on total number of epochs used. A few epochs might not be enough to capture full learning curve."
   ]
  },
  {
   "cell_type": "code",
   "execution_count": 99,
   "id": "394e489b",
   "metadata": {},
   "outputs": [
    {
     "data": {
      "image/png": "[encoded data removed]",
      "text/plain": [
       "<Figure size 800x400 with 1 Axes>"
      ]
     },
     "metadata": {},
     "output_type": "display_data"
    }
   ],
   "source": [
    "training_loss = history.history['loss']\n",
    "validation_loss = history.history['val_loss']\n",
    "\n",
    "plt.figure(figsize=(8,4))  # Adjust figure size for better visualization\n",
    "\n",
    "plt.plot(training_loss,label='Training Loss',marker='o',linewidth=2)\n",
    "plt.plot(validation_loss,label='Validation Loss',marker='^',linewidth=2)\n",
    "plt.xlabel('Epoch')\n",
    "plt.ylabel('Loss')\n",
    "plt.title('Training and Validation Loss over Epochs')\n",
    "plt.legend()\n",
    "plt.xlim(0,9)\n",
    "\n",
    "plt.xticks(range(0, len(training_loss), 2), range(0, len(training_loss), 2))  # Show major ticks every 2 epochs\n",
    "plt.grid(True, linestyle='--', linewidth=0.5, alpha=0.7)  # Add a faint grid for better visual reference\n",
    "\n",
    "# Add early stopping annotation if applicable\n",
    "# Find the epoch where training stopped\n",
    "early_stopping_epoch = 8  # Replace with actual epoch number\n",
    "plt.axvline(x=early_stopping_epoch,linestyle='--',color='red',label='Early Stopping (Epoch {epoch})'.format(epoch=early_stopping_epoch))  # Add a vertical dashed line at the stopping point\n",
    "#plt.text(early_stopping_epoch, training_loss[early_stopping_epoch], \"Early Stopping\", ha='center', va='top', fontsize=12, color='red')\n",
    "plt.show()\n"
   ]
  },
  {
   "cell_type": "markdown",
   "id": "dcd2a14c",
   "metadata": {},
   "source": [
    "### Above Plot Observations\n",
    "\n",
    "* `Training loss (blue line)` starts around 0.4 and steadily decreases to nearly 0.15 by 10th epoch. This indicates that model is learning effectively from training data.\n",
    "* `Validation loss (orange line)` starts slightly higher than training loss and also decreases over time, reaching its lowest point around epoch 8. However, it then rises slightly in final epochs.\n",
    "\n",
    "#### Interpretation\n",
    "\n",
    "* This plot suggests that model is initially overfitting to training data. Training loss decreases rapidly, but validation loss doesn't follow suit and even increases slightly towards end.\n",
    "* Early stopping callback likely played a crucial role here. By stopping training after 10th epoch, even though training loss was still decreasing, it prevented model from further overfitting to training data.\n",
    "* Slight rise in validation loss towards end suggests that model might be starting to memorize some training data patterns that are not generalizable to unseen data.\n",
    "\n",
    "#### Recommendations\n",
    "\n",
    "* Will try increasing validation split (e.g., to 0.3) to give model more data for evaluating its generalizability\n",
    "* Will Consider using additional regularization techniques like dropout or weight decay to prevent overfitting\n",
    "* Will try to experiment with different hyperparameters like learning rate or optimizer to see if they improve model's performance\n",
    "\n",
    "Overall, this above plot suggests that model is learning effectively but `needs further tuning to prevent overfitting and improve its generalizability`. By implementing suggested modifications and analyzing results, we can potentially optimize this model for better performance on unseen data."
   ]
  },
  {
   "cell_type": "markdown",
   "id": "cf558732",
   "metadata": {},
   "source": [
    "### Preparing test data to use in classification model"
   ]
  },
  {
   "cell_type": "code",
   "execution_count": 85,
   "id": "6dbbb869",
   "metadata": {},
   "outputs": [],
   "source": [
    "# using previously created tokenizer object to convert each text sample in test data (x_test) into a sequence of integers\n",
    "test_sequences = tokenizer.texts_to_sequences(x_test) #tokenizer assigns a unique integer to each word in your vocabulary based on its frequency in the training data\n",
    "\n",
    "# uses the pad_sequences function to ensure all sequences have same length (max_len), which is necessary for efficient processing by neural networks\n",
    "test_sequences_matrix = pad_sequences(test_sequences,maxlen=max_len) #Sequences shorter than max_len are padded with zeros at end to reach desired length"
   ]
  },
  {
   "cell_type": "markdown",
   "id": "48c8147c",
   "metadata": {},
   "source": [
    "By combining above two steps, your code efficiently prepares test data for prediction:\n",
    "\n",
    "* Each text sample is converted into a sequence of integers understandable by model\n",
    "* All sequences are padded to same length to ensure consistent handling by neural network"
   ]
  },
  {
   "cell_type": "code",
   "execution_count": 65,
   "id": "f58efd19",
   "metadata": {},
   "outputs": [
    {
     "name": "stdout",
     "output_type": "stream",
     "text": [
      "444/444 [==============================] - 97s 218ms/step - loss: 0.2350 - accuracy: 0.9270\n"
     ]
    }
   ],
   "source": [
    "# Evaluatinh hate speech classification model\n",
    "accr = model.evaluate(test_sequences_matrix,y_test) #evaluating trained model on unseen data"
   ]
  },
  {
   "cell_type": "markdown",
   "id": "3b9f4e29",
   "metadata": {},
   "source": [
    "* `444` --> number of samples\n",
    "    * 97s: This tells total time it took to evaluate model on entire test data set, which was in this case 97 seconds\n",
    "    * 218ms/step: This shows average time it took to evaluate each individual sample in test data set (218 milliseconds per step)\n",
    "\n",
    "**`Model Performance:`**\n",
    "* `loss: 0.2350`: This is average loss value on test data set. Lower loss values indicate better model performance. A loss of 0.2350 suggests model is making reasonably accurate predictions\n",
    "* `accuracy: 0.9270`: This is percentage of correct predictions made by model on test data set. An accuracy of 92.70% indicates model correctly classifies hate speech and non-hate speech in about 92.7% of test samples\n",
    "\n",
    "**`NOTE`**\n",
    "It's important to remember that a single accuracy value doesn't tell the whole story. I should also consider other metrics like precision, recall, and F1-score to get a more comprehensive picture of the model's performance, especially when dealing with imbalanced classes"
   ]
  },
  {
   "cell_type": "code",
   "execution_count": 101,
   "id": "31724aa6",
   "metadata": {},
   "outputs": [
    {
     "data": {
      "text/plain": [
       "'2.9.2'"
      ]
     },
     "execution_count": 101,
     "metadata": {},
     "output_type": "execute_result"
    }
   ],
   "source": [
    "tensorflow.__version__"
   ]
  },
  {
   "cell_type": "code",
   "execution_count": null,
   "id": "254e7d51",
   "metadata": {},
   "outputs": [],
   "source": [
    "### --- this code can be used with TF version 2.13 and after\n",
    "\n",
    "# from tensorflow.keras.metrics import Precision, Recall, AUC, F1Score\n",
    "\n",
    "# # Initialize metrics objects\n",
    "# precision = Precision()\n",
    "# recall = Recall()\n",
    "# f1_score = F1Score()\n",
    "\n",
    "# # Get predictions on the test data\n",
    "# predictions = model.predict(test_sequences_matrix)\n",
    "# predictions_binary = np.round(predictions)  # convert probabilities to binary labels\n",
    "\n",
    "# # Calculate metrics\n",
    "# precision = precision(y_test, predictions_binary)\n",
    "# recall = recall(y_test, predictions_binary)\n",
    "# f1 = f1_score(y_test, predictions_binary)\n",
    "\n",
    "# # Print the results\n",
    "# print(\"Precision:\", precision.numpy())\n",
    "# print(\"Recall:\", recall.numpy())\n",
    "# print(\"F1-score:\", f1.numpy())\n",
    "\n",
    "# # Alternatively, you can access these metrics from the evaluation result:\n",
    "# accr = model.evaluate(test_sequences_matrix, y_test)\n",
    "# print(\"Accuracy:\", accr[1])  # assumes accuracy is at index 1 (check your library documentation)\n",
    "# print(\"Precision:\", accr[2])  # assumes precision is at index 2 (check your library documentation)\n",
    "# print(\"Recall:\", accr[3])  # assumes recall is at index 3 (check your library documentation)\n",
    "# print(\"F1-score:\", accr[4])  # assumes F1-score is at index 4 (check your library documentation)\n"
   ]
  },
  {
   "cell_type": "code",
   "execution_count": null,
   "id": "68d5e810",
   "metadata": {},
   "outputs": [],
   "source": [
    "# from tensorflow.keras.metrics import Precision, Recall\n",
    "\n",
    "# precision = Precision()\n",
    "# recall = Recall()\n",
    "\n",
    "# precision.update_state(y_true, y_pred)\n",
    "# recall.update_state(y_true, y_pred)\n",
    "\n",
    "\n",
    "# print(f\"Precision: {precision.result().numpy()}\")\n",
    "# print(f\"Recall: {recall.result().numpy()}\")\n",
    "\n"
   ]
  },
  {
   "cell_type": "code",
   "execution_count": 66,
   "id": "6c70d3a3",
   "metadata": {},
   "outputs": [
    {
     "name": "stdout",
     "output_type": "stream",
     "text": [
      "444/444 [==============================] - 90s 200ms/step\n"
     ]
    }
   ],
   "source": [
    "#predicting outputs of LSTM model on provided test data (test_sequences_matrix)\n",
    "lstm_prediction = model.predict(test_sequences_matrix)"
   ]
  },
  {
   "cell_type": "code",
   "execution_count": 117,
   "id": "fc36603d",
   "metadata": {},
   "outputs": [
    {
     "data": {
      "text/plain": [
       "numpy.ndarray"
      ]
     },
     "execution_count": 117,
     "metadata": {},
     "output_type": "execute_result"
    }
   ],
   "source": [
    "type(lstm_prediction)"
   ]
  },
  {
   "cell_type": "code",
   "execution_count": 121,
   "metadata": {},
   "outputs": [],
   "source": [
    "#creating classes out of np.ndarray\n",
    "res = []\n",
    "for prediction in lstm_prediction:\n",
    "    if prediction[0] < 0.5:\n",
    "        res.append(0)\n",
    "    else:\n",
    "        res.append(1)\n",
    "\n",
    "### this code is bit complex will use numpy vectorization operations for it see"
   ]
  },
  {
   "cell_type": "code",
   "execution_count": 123,
   "id": "737fe0e2",
   "metadata": {},
   "outputs": [
    {
     "data": {
      "text/plain": [
       "(list, pandas.core.series.Series)"
      ]
     },
     "execution_count": 123,
     "metadata": {},
     "output_type": "execute_result"
    }
   ],
   "source": [
    "type(res), type(y_test)"
   ]
  },
  {
   "cell_type": "code",
   "execution_count": 124,
   "id": "a9958e83",
   "metadata": {},
   "outputs": [
    {
     "data": {
      "text/plain": [
       "numpy.ndarray"
      ]
     },
     "execution_count": 124,
     "metadata": {},
     "output_type": "execute_result"
    }
   ],
   "source": [
    "#Vectorized approach\n",
    "threshold = 0.5\n",
    "classes = (lstm_prediction >= threshold).astype(int)\n",
    "type(classes)"
   ]
  },
  {
   "cell_type": "markdown",
   "id": "ec209582",
   "metadata": {},
   "source": [
    "### Code for [Comparing predictions with ground truth (for continuous values)]"
   ]
  },
  {
   "cell_type": "code",
   "execution_count": 130,
   "id": "9dffbb80",
   "metadata": {},
   "outputs": [
    {
     "data": {
      "text/plain": [
       "<Figure size 800x600 with 0 Axes>"
      ]
     },
     "metadata": {},
     "output_type": "display_data"
    },
    {
     "data": {
      "image/png": "[encoded data removed]",
      "text/plain": [
       "<Figure size 480x480 with 1 Axes>"
      ]
     },
     "metadata": {},
     "output_type": "display_data"
    },
    {
     "data": {
      "image/png": "[encoded data removed]",
      "text/plain": [
       "<Figure size 800x600 with 1 Axes>"
      ]
     },
     "metadata": {},
     "output_type": "display_data"
    },
    {
     "name": "stdout",
     "output_type": "stream",
     "text": [
      "Accuracy: 0.9270\n",
      "Precision: 1.0000\n",
      "Recall: 1.0000\n",
      "F1-score: 1.0000\n",
      "Support: Class 0 = 8394, Class 1 = 5793\n"
     ]
    }
   ],
   "source": [
    "from sklearn.metrics import confusion_matrix, roc_curve, auc, precision_recall_curve\n",
    "\n",
    "if len(set(y_test)) == 2:\n",
    "    # Confusion matrix\n",
    "    cm = confusion_matrix(y_test, classes)\n",
    "\n",
    "    plt.figure(figsize=(8, 6))  # Adjust figure size for better visibility\n",
    "    plt.matshow(cm, cmap=\"YlGnBu\", vmin=0, vmax=cm.max())  # Use contrasting green-blue colormap\n",
    "    plt.xticks([0, 1], [\"True Class 0\", \"True Class 1\"], fontsize=14)\n",
    "    plt.yticks([0, 1], [\"Predicted Class 0\", \"Predicted Class 1\"], fontsize=14)\n",
    "    plt.xlabel(\"Predicted Class\", fontsize=14)\n",
    "    plt.ylabel(\"True Class\", fontsize=14)\n",
    "    plt.title(\"Confusion Matrix\", fontsize=16)\n",
    "    for i in range(2):\n",
    "        for j in range(2):\n",
    "            plt.text(i, j, f\"{cm[i, j]}\", ha=\"center\", va=\"center\", fontsize=12)  # Display cell values\n",
    "\n",
    "    # ROC curve and precision-recall curve\n",
    "    fpr, tpr, _ = roc_curve(y_test, classes)\n",
    "    precision, recall, _ = precision_recall_curve(y_test, classes)\n",
    "    roc_auc = auc(fpr, tpr)\n",
    "\n",
    "    plt.figure(figsize=(8, 6))\n",
    "    plt.plot(fpr, tpr, label=\"ROC Curve (AUC = {:.4f})\".format(roc_auc), linewidth=2)\n",
    "    plt.plot(recall, precision, label=\"Precision-Recall Curve\", linewidth=2)\n",
    "    plt.xlabel(\"False Positive Rate\", fontsize=14)\n",
    "    plt.ylabel(\"True Positive Rate/Precision\", fontsize=14)\n",
    "    plt.xlim([0, 1])\n",
    "    plt.ylim([0, 1])\n",
    "    plt.legend(loc=\"lower left\", fontsize=12)\n",
    "    plt.title(\"ROC and Precision-Recall Curves\", fontsize=16)\n",
    "    plt.show()\n",
    "\n",
    "    # Calculate and display additional metrics\n",
    "    accuracy = confusion_matrix(y_test, classes).trace() / len(y_test)\n",
    "    precision = precision[-1]  # Last value corresponds to recall=0 (i.e., highest precision)\n",
    "    recall = recall[0]  # First value corresponds to precision=1 (i.e., highest recall)\n",
    "    f1 = 2 * precision * recall / (precision + recall)\n",
    "    support_0, support_1 = cm.sum(axis=0)\n",
    "\n",
    "    print(f\"Accuracy: {accuracy:.4f}\")\n",
    "    print(f\"Precision: {precision:.4f}\")\n",
    "    print(f\"Recall: {recall:.4f}\")\n",
    "    print(f\"F1-score: {f1:.4f}\")\n",
    "    print(f\"Support: Class 0 = {support_0}, Class 1 = {support_1}\")\n",
    "\n"
   ]
  },
  {
   "cell_type": "code",
   "execution_count": 131,
   "id": "92f43242",
   "metadata": {},
   "outputs": [
    {
     "name": "stdout",
     "output_type": "stream",
     "text": [
      "**Actionable Insights:**\n",
      "* The model achieves an accuracy of 0.9270, but there is room for improvement in both precision and recall.\n",
      "* The ROC curve shows the model outperforms a random classifier, but further adjustments could enhance its performance.\n",
      "* Focus on improving detection of True Negatives to reduce potential negative consequences of incorrect predictions.\n"
     ]
    },
    {
     "data": {
      "image/png": "[encoded data removed]",
      "text/plain": [
       "<Figure size 800x600 with 1 Axes>"
      ]
     },
     "metadata": {},
     "output_type": "display_data"
    },
    {
     "data": {
      "text/plain": [
       "<Figure size 600x600 with 0 Axes>"
      ]
     },
     "metadata": {},
     "output_type": "display_data"
    },
    {
     "data": {
      "image/png": "[encoded data removed]",
      "text/plain": [
       "<Figure size 480x480 with 1 Axes>"
      ]
     },
     "metadata": {},
     "output_type": "display_data"
    },
    {
     "data": {
      "image/png": "[encoded data removed]",
      "text/plain": [
       "<Figure size 800x600 with 1 Axes>"
      ]
     },
     "metadata": {},
     "output_type": "display_data"
    }
   ],
   "source": [
    "### Output for Managers and high authority\n",
    "\n",
    "from sklearn.metrics import confusion_matrix, roc_curve, auc\n",
    "\n",
    "if len(set(y_test)) == 2:\n",
    "    # Confusion matrix\n",
    "    cm = confusion_matrix(y_test, classes)\n",
    "\n",
    "    # Calculate accuracy, precision, recall, and F1-score\n",
    "    accuracy = cm.trace() / len(y_test)\n",
    "    precision = confusion_matrix(y_test, classes)[0, 0] / (confusion_matrix(y_test, classes)[0, 0] + confusion_matrix(y_test, classes)[1, 0])\n",
    "    recall = confusion_matrix(y_test, classes)[0, 0] / (confusion_matrix(y_test, classes)[0, 0] + confusion_matrix(y_test, classes)[0, 1])\n",
    "    f1 = 2 * precision * recall / (precision + recall)\n",
    "\n",
    "    # Create bar chart for accuracy, precision, recall, and F1-score\n",
    "    metrics = [\"Accuracy\", \"Precision\", \"Recall\", \"F1-score\"]\n",
    "    values = [accuracy, precision, recall, f1]\n",
    "\n",
    "    plt.figure(figsize=(8, 6))\n",
    "    plt.bar(metrics, values, color=[\"green\", \"blue\", \"orange\", \"purple\"])\n",
    "    plt.xlabel(\"Metric\")\n",
    "    plt.ylabel(\"Score\")\n",
    "    plt.title(\"Model Performance Metrics\")\n",
    "    plt.ylim(0, 1)  # Set y-axis limit for easier comparison\n",
    "\n",
    "    # Confusion matrix with annotations\n",
    "    plt.figure(figsize=(6, 6))\n",
    "    plt.matshow(cm, cmap=\"Blues\", vmin=0, vmax=cm.max())\n",
    "    plt.xticks([0, 1], [\"True Class 0\", \"True Class 1\"], rotation=45, ha=\"right\")\n",
    "    plt.yticks([0, 1], [\"Predicted Class 0\", \"Predicted Class 1\"])\n",
    "    plt.xlabel(\"Predicted Class\")\n",
    "    plt.ylabel(\"True Class\")\n",
    "    plt.title(\"Confusion Matrix\")\n",
    "    for i in range(2):\n",
    "        for j in range(2):\n",
    "            plt.text(i, j, f\"{cm[i, j]}\", ha=\"center\", va=\"center\", fontsize=12)\n",
    "    plt.annotate(f\"Correct: {confusion_matrix(y_test, classes)[0, 0]}\", xy=(0.1, 0.9), fontsize=10)\n",
    "    plt.annotate(f\"Incorrect: {confusion_matrix(y_test, classes)[0, 1]}\", xy=(0.9, 0.9), fontsize=10)\n",
    "    plt.annotate(f\"Correct: {confusion_matrix(y_test, classes)[1, 1]}\", xy=(0.9, 0.1), fontsize=10)\n",
    "    plt.annotate(f\"Incorrect: {confusion_matrix(y_test, classes)[1, 0]}\", xy=(0.1, 0.1), fontsize=10)\n",
    "\n",
    "    # ROC curve with AUC and random classifier line\n",
    "    fpr, tpr, _ = roc_curve(y_test, classes)\n",
    "    roc_auc = auc(fpr, tpr)\n",
    "\n",
    "    plt.figure(figsize=(8, 6))\n",
    "    plt.plot(fpr, tpr, label=\"ROC Curve (AUC = {:.4f})\".format(roc_auc), linewidth=2)\n",
    "    plt.plot([0, 1], [0, 1], linestyle=\"--\", color=\"gray\", label=\"Random Classifier\")\n",
    "    plt.xlabel(\"False Positive Rate\")\n",
    "    plt.ylabel(\"True Positive Rate\")\n",
    "    plt.xlim([0, 1])\n",
    "    plt.ylim([0, 1])\n",
    "    plt.legend(loc=\"lower left\", fontsize=12)\n",
    "    plt.title(\"ROC Curve with Random Classifier Comparison\")\n",
    "\n",
    "    # Print actionable insights\n",
    "    print(\"**Actionable Insights:**\")\n",
    "    print(f\"* The model achieves an accuracy of {accuracy:.4f}, but there is room for improvement in both precision and recall.\")\n",
    "    print(f\"* The ROC curve shows the model outperforms a random classifier, but further adjustments could enhance its performance.\")\n",
    "    print(f\"* Focus on improving detection of True Negatives to reduce potential negative consequences of incorrect predictions.\")"
   ]
  },
  {
   "cell_type": "markdown",
   "id": "b826ca3f",
   "metadata": {},
   "source": [
    "### Performance of a binary classification model, for identifying hate speech\n",
    "\n",
    "* `True Positives (TP)`: `7877`: These are correctly classified hate speech samples\n",
    "* `False Positives (FP)`: `518`: These are incorrectly classified non-hate speech samples as hate speech\n",
    "* `False Negatives (FN)`: `517`: These are incorrectly classified hate speech samples as non-hate speech\n",
    "* `True Negatives (TN)`: `5275`: These are correctly classified non-hate speech samples\n",
    "\n",
    "---\n",
    "Based on these values, we can calculate some key performance metrics (I am doing it manually):\n",
    "* `Accuracy`: (TP + TN) / (TP + FP + FN + TN) = (7877 + 5275) / (7877 + 518 + 517 + 5275) ≈ 0.917\n",
    "* `Precision`: TP / (TP + FP) = 7877 / (7877 + 518) ≈ 0.941\n",
    "* `Recall`: TP / (TP + FN) = 7877 / (7877 + 517) ≈ 0.939\n",
    "* `F1-score`: 2 * (Precision * Recall) / (Precision + Recall) = 2 * (0.941 * 0.939) / (0.941 + 0.939) ≈ 0.940"
   ]
  },
  {
   "cell_type": "code",
   "execution_count": 69,
   "id": "baf566a8",
   "metadata": {},
   "outputs": [
    {
     "name": "stdout",
     "output_type": "stream",
     "text": [
      "[[7877  518]\n",
      " [ 517 5275]]\n"
     ]
    }
   ],
   "source": [
    "print(confusion_matrix(y_test,res))"
   ]
  },
  {
   "cell_type": "markdown",
   "id": "213b8a12",
   "metadata": {},
   "source": [
    "### Interpretation:\n",
    "\n",
    "* `Overall accuracy`: The model achieves a decent accuracy of ~91.7% in classifying hate speech and non-hate speech.\n",
    "* `Precision`: The model is quite precise, meaning when it predicts hate speech, it's usually correct ~94% of the time.\n",
    "* `Recall`: The model has a good recall, meaning it catches ~94% of actual hate speech samples.\n",
    "* `F1-score`: The F1-score provides a balanced view of precision and recall, and its value of ~94% confirms the model's overall good performance.\n",
    "\n",
    "**`Points to consider`**:\n",
    "\n",
    "* `False positives`: The model misclassifies ~5% of non-hate speech as hate speech, which could be problematic depending on the application.\n",
    "* `False negatives`: The model misses ~5% of actual hate speech samples, which could have serious consequences.\n",
    "\n",
    "**`Further analysis and Scopes`**:\n",
    "\n",
    "* Analyze the types of text incorrectly classified to understand the model's biases or weaknesses\n",
    "* Experiment with different model hyperparameters or techniques to improve performance, especially reducing false positives or negatives\n",
    "* Evaluating a model's performance should be based on your specific goals and priorities. `While this model shows decent overall accuracy`, `false positives and negatives might require further attention based on specific context and risk tolerance`"
   ]
  },
  {
   "cell_type": "code",
   "execution_count": 70,
   "id": "b7db50c2",
   "metadata": {},
   "outputs": [],
   "source": [
    "import pickle\n",
    "\n",
    "with open(path+'tokenizer.pickle', 'wb') as handle:\n",
    "    pickle.dump(tokenizer,handle,protocol=pickle.HIGHEST_PROTOCOL)"
   ]
  },
  {
   "cell_type": "code",
   "execution_count": 71,
   "id": "2d1a9ee1",
   "metadata": {},
   "outputs": [],
   "source": [
    "# Let's save the mdoel.\n",
    "model.save(\"modelxxx.h5\")"
   ]
  },
  {
   "cell_type": "code",
   "execution_count": 75,
   "id": "85b21252",
   "metadata": {},
   "outputs": [],
   "source": [
    "path_env = \"\\\\Utilizing-Natural-Language-Processing-to-Detect-Abusive-Language-on-Social-Media\\\\research_env\\\\\""
   ]
  },
  {
   "cell_type": "code",
   "execution_count": 77,
   "id": "f06af56f",
   "metadata": {},
   "outputs": [],
   "source": [
    "import keras\n",
    "\n",
    "load_model = keras.models.load_model(path_env+\"model_06.h5\")\n",
    "with open(path+'tokenizer.pickle', 'rb') as handle:\n",
    "    load_tokenizer = pickle.load(handle)"
   ]
  },
  {
   "cell_type": "code",
   "execution_count": 172,
   "id": "20791597",
   "metadata": {},
   "outputs": [
    {
     "data": {
      "text/plain": [
       "\"@user @user thanks for #lyft credit i can't use cause they don't offer wheelchair vans in pdx.    #disapointed #getthanked\""
      ]
     },
     "execution_count": 172,
     "metadata": {},
     "output_type": "execute_result"
    }
   ],
   "source": [
    "df.tweet[1]"
   ]
  },
  {
   "cell_type": "code",
   "execution_count": 174,
   "id": "3f6e17c4",
   "metadata": {},
   "outputs": [
    {
     "name": "stdout",
     "output_type": "stream",
     "text": [
      "thanks for #lyft credit i can't use cause they don't offer wheelchair vans in pdx.    #disapointed #getthanked\n",
      "thanks for lyft credit i cant use cause they dont offer wheelchair vans in pdx    disapointed getthanked\n",
      "['thank lyft credit cant use caus dont offer wheelchair van pdx    disapoint getthank']\n",
      "[[231, 21375, 2341, 68, 356, 27029, 38, 1807, 13246, 2562, 24610]]\n"
     ]
    },
    {
     "name": "stdout",
     "output_type": "stream",
     "text": [
      "1/1 [==============================] - 0s 330ms/step\n",
      "pred [[0.20755321]]\n",
      "no hate\n"
     ]
    }
   ],
   "source": [
    "# Let's test our model on custom data.\n",
    "test = \"thanks for #lyft credit i can't use cause they don't offer wheelchair vans in pdx.    #disapointed #getthanked\"\n",
    "def clean_text(text):\n",
    "    print(text)\n",
    "    text = str(text).lower()\n",
    "    text = re.sub('\\[.*?\\]', '', text)\n",
    "    text = re.sub('https?://\\S+|www\\.\\S+', '', text)\n",
    "    text = re.sub('<.*?>+', '', text)\n",
    "    text = re.sub('[%s]' % re.escape(string.punctuation), '', text)\n",
    "    text = re.sub('\\n', '', text)\n",
    "    text = re.sub('\\w*\\d\\w*', '', text)\n",
    "    print(text)\n",
    "    text = [word for word in text.split(' ') if word not in stopword]\n",
    "    text=\" \".join(text)\n",
    "    text = [stemmer.stem(word) for word in text.split(' ')]\n",
    "    text=\" \".join(text)\n",
    "    return text\n",
    "test=[clean_text(test)]\n",
    "print(test)\n",
    "seq = load_tokenizer.texts_to_sequences(test)\n",
    "padded = pad_sequences(seq, maxlen=300)\n",
    "print(seq)\n",
    "pred = load_model.predict(padded)\n",
    "print(\"pred\", pred)\n",
    "if pred<0.5:\n",
    "    print(\"no hate\")\n",
    "else:\n",
    "    print(\"hate and abusive\")"
   ]
  }
 ],
 "metadata": {
  "kernelspec": {
   "display_name": "Python 3 (ipykernel)",
   "language": "python",
   "name": "python3"
  },
  "language_info": {
   "codemirror_mode": {
    "name": "ipython",
    "version": 3
   },
   "file_extension": ".py",
   "mimetype": "text/x-python",
   "name": "python",
   "nbconvert_exporter": "python",
   "pygments_lexer": "ipython3",
   "version": "3.8.18"
  },
  "vscode": {
   "interpreter": {
    "hash": "78c0944ea4f18772dba0ff36fd674f5ba1f2c3ae83709e2484ea03089ca7161e"
   }
  }
 },
 "nbformat": 4,
 "nbformat_minor": 5
}
